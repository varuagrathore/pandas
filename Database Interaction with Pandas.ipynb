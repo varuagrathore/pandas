{
 "cells": [
  {
   "cell_type": "code",
   "execution_count": 1,
   "id": "819963d6-26f8-4920-85ac-dacca4ed17d6",
   "metadata": {
    "scrolled": true
   },
   "outputs": [
    {
     "name": "stdout",
     "output_type": "stream",
     "text": [
      "Collecting pysqlite3\n",
      "  Using cached pysqlite3-0.5.2.tar.gz (40 kB)\n",
      "  Installing build dependencies: started\n",
      "  Installing build dependencies: finished with status 'done'\n",
      "  Getting requirements to build wheel: started\n",
      "  Getting requirements to build wheel: finished with status 'done'\n",
      "  Preparing metadata (pyproject.toml): started\n",
      "  Preparing metadata (pyproject.toml): finished with status 'done'\n",
      "Building wheels for collected packages: pysqlite3\n",
      "  Building wheel for pysqlite3 (pyproject.toml): started\n",
      "  Building wheel for pysqlite3 (pyproject.toml): finished with status 'error'\n",
      "Failed to build pysqlite3\n"
     ]
    },
    {
     "name": "stderr",
     "output_type": "stream",
     "text": [
      "  error: subprocess-exited-with-error\n",
      "  \n",
      "  Building wheel for pysqlite3 (pyproject.toml) did not run successfully.\n",
      "  exit code: 1\n",
      "  \n",
      "  [12 lines of output]\n",
      "  running bdist_wheel\n",
      "  running build\n",
      "  running build_py\n",
      "  creating build\n",
      "  creating build\\lib.win-amd64-cpython-311\n",
      "  creating build\\lib.win-amd64-cpython-311\\pysqlite3\n",
      "  copying pysqlite3\\dbapi2.py -> build\\lib.win-amd64-cpython-311\\pysqlite3\n",
      "  copying pysqlite3\\__init__.py -> build\\lib.win-amd64-cpython-311\\pysqlite3\n",
      "  running build_ext\n",
      "  Builds a C extension linking against libsqlite3 library\n",
      "  building 'pysqlite3._sqlite3' extension\n",
      "  error: Microsoft Visual C++ 14.0 or greater is required. Get it with \"Microsoft C++ Build Tools\": https://visualstudio.microsoft.com/visual-cpp-build-tools/\n",
      "  [end of output]\n",
      "  \n",
      "  note: This error originates from a subprocess, and is likely not a problem with pip.\n",
      "  ERROR: Failed building wheel for pysqlite3\n",
      "ERROR: Could not build wheels for pysqlite3, which is required to install pyproject.toml-based projects\n",
      "\n",
      "[notice] A new release of pip is available: 23.3.1 -> 24.0\n",
      "[notice] To update, run: python.exe -m pip install --upgrade pip\n"
     ]
    }
   ],
   "source": [
    "!pip install pysqlite3"
   ]
  },
  {
   "cell_type": "code",
   "execution_count": 1,
   "id": "40982250-3f14-40ce-b1b2-e89b658a7fd0",
   "metadata": {},
   "outputs": [],
   "source": [
    "import pandas as pd\n",
    "\n",
    "# Sample data resembling Customer Churn Modelling\n",
    "data = pd.DataFrame({\n",
    "    'RowNumber': [1, 2, 3, 4, 5],\n",
    "    'CustomerId': [15634602, 15647311, 15619304, 15701354, 15737888],\n",
    "    'Surname': ['Hargrave', 'Hill', 'Onio', 'Boni', 'Mitchell'],\n",
    "    'CreditScore': [619, 608, 502, 699, 850],\n",
    "    'Geography': ['France', 'Spain', 'France', 'France', 'Spain'],\n",
    "    'Gender': ['Female', 'Female', 'Female', 'Female', 'Female'],\n",
    "    'Age': [42, 41, 42, 39, 43],\n",
    "    'Tenure': [2, 1, 8, 1, 2],\n",
    "    'Balance': [0.00, 83807.86, 159660.80, 0.00, 125510.82],\n",
    "    'NumOfProducts': [1, 1, 3, 2, 1],\n",
    "    'HasCrCard': [1, 0, 1, 0, 1],\n",
    "    'IsActiveMember': [1, 1, 0, 0, 1],\n",
    "    'EstimatedSalary': [101348.88, 112542.58, 113931.57, 93826.63, 79084.10],\n",
    "    'Exited': [1, 0, 1, 0, 0]\n",
    "})\n"
   ]
  },
  {
   "cell_type": "code",
   "execution_count": 2,
   "id": "37af6c1d-becf-4d14-b3d4-d363bbfefd6e",
   "metadata": {},
   "outputs": [],
   "source": [
    "import sqlite3\n",
    "\n",
    "# Connect to the SQLite database (this will create a new file'churn.db' if it doesn't exist)\n",
    "conn=sqlite3.connect('churn.db')\n",
    "# Create a cursor object to execute SQL commands\n",
    "cursor=conn.cursor()\n",
    "# Create the 'customer_churn' table\n",
    "create_table_query='''\n",
    "CREATE TABLE IF NOT EXISTS cutomer_churn(\n",
    "RowNumber INTEGER PRIMARY KEY,\n",
    "   CustomerId INTEGER,\n",
    "   Surname TEXT,\n",
    "   CreditScore INTEGER,\n",
    "   Geography TEXT,\n",
    "   Gender TEXT,\n",
    "   Age INTEGER,\n",
    "   Tenure INTEGER,\n",
    "   Balance REAL,\n",
    "   NumOfProducts INTEGER,\n",
    "   HasCrCard INTEGER,\n",
    "   IsActiveMember INTEGER,\n",
    "   EstimatedSalary REAL,\n",
    "   Exited INTEGER\n",
    " );\n",
    " '''\n",
    "\n",
    "cursor.execute(create_table_query)\n",
    " # Commit the changes and close the cursor\n",
    "conn.commit()\n",
    "\n",
    "\n"
   ]
  },
  {
   "cell_type": "markdown",
   "id": "75372ab5-476b-4186-8207-8fc6e6a7a628",
   "metadata": {},
   "source": [
    "**Load Data into SQLite Database**"
   ]
  },
  {
   "cell_type": "code",
   "execution_count": 3,
   "id": "ac9aa8f5-0cd1-4e72-8077-0492654c613c",
   "metadata": {},
   "outputs": [
    {
     "data": {
      "text/plain": [
       "5"
      ]
     },
     "execution_count": 3,
     "metadata": {},
     "output_type": "execute_result"
    }
   ],
   "source": [
    "data.to_sql('customer_churn', conn, if_exists='append', index=False)"
   ]
  },
  {
   "cell_type": "code",
   "execution_count": 4,
   "id": "5b4e08b7-f475-4bb1-b6a3-97589c747ea1",
   "metadata": {},
   "outputs": [],
   "source": [
    "# Execute a query to select customers who exited\n",
    "sql_query = 'SELECT DISTINCT * FROM customer_churn WHERE Exited = 1'"
   ]
  },
  {
   "cell_type": "code",
   "execution_count": 5,
   "id": "41906ad8-cc67-408b-8770-67780ce8a339",
   "metadata": {},
   "outputs": [],
   "source": [
    "# Fetch the results\n",
    "cursor.execute(sql_query)\n",
    "results = cursor.fetchall()\n"
   ]
  },
  {
   "cell_type": "code",
   "execution_count": 6,
   "id": "dfd24dfc-81f2-4aa0-b5b8-af8aba6c8cc4",
   "metadata": {},
   "outputs": [
    {
     "data": {
      "text/html": [
       "<div>\n",
       "<style scoped>\n",
       "    .dataframe tbody tr th:only-of-type {\n",
       "        vertical-align: middle;\n",
       "    }\n",
       "\n",
       "    .dataframe tbody tr th {\n",
       "        vertical-align: top;\n",
       "    }\n",
       "\n",
       "    .dataframe thead th {\n",
       "        text-align: right;\n",
       "    }\n",
       "</style>\n",
       "<table border=\"1\" class=\"dataframe\">\n",
       "  <thead>\n",
       "    <tr style=\"text-align: right;\">\n",
       "      <th></th>\n",
       "      <th>RowNumber</th>\n",
       "      <th>CustomerId</th>\n",
       "      <th>Surname</th>\n",
       "      <th>CreditScore</th>\n",
       "      <th>Geography</th>\n",
       "      <th>Gender</th>\n",
       "      <th>Age</th>\n",
       "      <th>Tenure</th>\n",
       "      <th>Balance</th>\n",
       "      <th>NumOfProducts</th>\n",
       "      <th>HasCrCard</th>\n",
       "      <th>IsActiveMember</th>\n",
       "      <th>EstimatedSalary</th>\n",
       "      <th>Exited</th>\n",
       "    </tr>\n",
       "  </thead>\n",
       "  <tbody>\n",
       "    <tr>\n",
       "      <th>0</th>\n",
       "      <td>1</td>\n",
       "      <td>15634602</td>\n",
       "      <td>Hargrave</td>\n",
       "      <td>619</td>\n",
       "      <td>France</td>\n",
       "      <td>Female</td>\n",
       "      <td>42</td>\n",
       "      <td>2</td>\n",
       "      <td>0.0</td>\n",
       "      <td>1</td>\n",
       "      <td>1</td>\n",
       "      <td>1</td>\n",
       "      <td>101348.88</td>\n",
       "      <td>1</td>\n",
       "    </tr>\n",
       "    <tr>\n",
       "      <th>1</th>\n",
       "      <td>3</td>\n",
       "      <td>15619304</td>\n",
       "      <td>Onio</td>\n",
       "      <td>502</td>\n",
       "      <td>France</td>\n",
       "      <td>Female</td>\n",
       "      <td>42</td>\n",
       "      <td>8</td>\n",
       "      <td>159660.8</td>\n",
       "      <td>3</td>\n",
       "      <td>1</td>\n",
       "      <td>0</td>\n",
       "      <td>113931.57</td>\n",
       "      <td>1</td>\n",
       "    </tr>\n",
       "  </tbody>\n",
       "</table>\n",
       "</div>"
      ],
      "text/plain": [
       "   RowNumber  CustomerId   Surname  CreditScore Geography  Gender  Age  \\\n",
       "0          1    15634602  Hargrave          619    France  Female   42   \n",
       "1          3    15619304      Onio          502    France  Female   42   \n",
       "\n",
       "   Tenure   Balance  NumOfProducts  HasCrCard  IsActiveMember  \\\n",
       "0       2       0.0              1          1               1   \n",
       "1       8  159660.8              3          1               0   \n",
       "\n",
       "   EstimatedSalary  Exited  \n",
       "0        101348.88       1  \n",
       "1        113931.57       1  "
      ]
     },
     "execution_count": 6,
     "metadata": {},
     "output_type": "execute_result"
    }
   ],
   "source": [
    "# Convert the results to a DataFrame for better readability\n",
    "results_df = pd.DataFrame(results, columns=data.columns)\n",
    "\n",
    "# Print the results\n",
    "results_df"
   ]
  },
  {
   "cell_type": "markdown",
   "id": "ccc438ae-9502-463b-b4a7-18b224a54a8d",
   "metadata": {},
   "source": [
    "**Perform Data Manipulation and Analysis**\n",
    " Once the data is loaded into a DataFrame, you can use the same Pandas functions and methods discussed earlier to manipulate and analyze the data.\n",
    " \n",
    "**Write Data Back to SQLite Database (optional)**\n",
    " If you want to write modified data back to the SQLite database, you can use\n",
    " the to_sql() method again."
   ]
  },
  {
   "cell_type": "code",
   "execution_count": null,
   "id": "38b7eb13-b363-4da3-a832-880b80ee48f9",
   "metadata": {},
   "outputs": [],
   "source": []
  }
 ],
 "metadata": {
  "kernelspec": {
   "display_name": "Python 3 (ipykernel)",
   "language": "python",
   "name": "python3"
  },
  "language_info": {
   "codemirror_mode": {
    "name": "ipython",
    "version": 3
   },
   "file_extension": ".py",
   "mimetype": "text/x-python",
   "name": "python",
   "nbconvert_exporter": "python",
   "pygments_lexer": "ipython3",
   "version": "3.11.4"
  }
 },
 "nbformat": 4,
 "nbformat_minor": 5
}
