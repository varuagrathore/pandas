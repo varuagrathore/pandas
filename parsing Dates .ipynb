{
 "cells": [
  {
   "cell_type": "code",
   "execution_count": 1,
   "id": "932efd87-1f42-4046-bbcb-a7c6593dd6ca",
   "metadata": {},
   "outputs": [],
   "source": [
    "import pandas as pd"
   ]
  },
  {
   "cell_type": "code",
   "execution_count": 16,
   "id": "1b190795-7e52-4465-8f53-6083b1b79a08",
   "metadata": {},
   "outputs": [
    {
     "data": {
      "text/plain": [
       "0    2019-01-22 21:25:00\n",
       "1    2019-01-28 14:15:00\n",
       "2    2019-01-17 13:33:00\n",
       "3    2019-01-05 20:33:00\n",
       "4    2019-01-25 11:59:00\n",
       "Name: Order Date, dtype: object"
      ]
     },
     "execution_count": 16,
     "metadata": {},
     "output_type": "execute_result"
    }
   ],
   "source": [
    "data =pd.read_csv(r\"C:\\Users\\dell\\OneDrive\\datasheet\\archive\\sales_data.csv\")\n",
    "data['Order Date'].head()"
   ]
  },
  {
   "cell_type": "code",
   "execution_count": 5,
   "id": "4976254c-84f8-4404-8c06-bac1d7f20a24",
   "metadata": {},
   "outputs": [
    {
     "data": {
      "text/plain": [
       "dtype('O')"
      ]
     },
     "execution_count": 5,
     "metadata": {},
     "output_type": "execute_result"
    }
   ],
   "source": [
    "data['Order Date'].dtypes\n"
   ]
  },
  {
   "cell_type": "code",
   "execution_count": 6,
   "id": "76301e27-1ff4-4476-a6b3-1f0b73f4de3a",
   "metadata": {},
   "outputs": [],
   "source": [
    "#dtype('O') this indicate data type object\n"
   ]
  },
  {
   "cell_type": "code",
   "execution_count": 23,
   "id": "7567a447-6641-4022-b76b-13aeb4f3d0dd",
   "metadata": {},
   "outputs": [],
   "source": [
    "data['date_parsed'] = pd.to_datetime(data['Order Date'], format=\"%Y-%m-%d %H:%M:%S\")"
   ]
  },
  {
   "cell_type": "code",
   "execution_count": 25,
   "id": "7ec2fef9-6698-4cd7-9262-52fa17570b52",
   "metadata": {},
   "outputs": [],
   "source": [
    "day_of_month = data['date_parsed'].dt.day"
   ]
  },
  {
   "cell_type": "code",
   "execution_count": 26,
   "id": "f025f0a8-a2a9-4a17-96ed-3465163f6f00",
   "metadata": {},
   "outputs": [
    {
     "name": "stderr",
     "output_type": "stream",
     "text": [
      "C:\\Users\\dell\\AppData\\Local\\Temp\\ipykernel_18692\\91601976.py:6: UserWarning: \n",
      "\n",
      "`distplot` is a deprecated function and will be removed in seaborn v0.14.0.\n",
      "\n",
      "Please adapt your code to use either `displot` (a figure-level function with\n",
      "similar flexibility) or `histplot` (an axes-level function for histograms).\n",
      "\n",
      "For a guide to updating your code to use the new functions, please see\n",
      "https://gist.github.com/mwaskom/de44147ed2974457ad6372750bbe5751\n",
      "\n",
      "  sns.distplot(day_of_month, kde=False, bins=31)\n"
     ]
    },
    {
     "data": {
      "text/plain": [
       "<Axes: xlabel='date_parsed'>"
      ]
     },
     "execution_count": 26,
     "metadata": {},
     "output_type": "execute_result"
    },
    {
     "data": {
      "image/png": "[encoded data removed]",
      "text/plain": [
       "<Figure size 640x480 with 1 Axes>"
      ]
     },
     "metadata": {},
     "output_type": "display_data"
    }
   ],
   "source": [
    "import seaborn as sns\n",
    "# remove na's\n",
    "day_of_month = day_of_month.dropna()\n",
    "\n",
    "# plot the day of the month\n",
    "sns.distplot(day_of_month, kde=False, bins=31)"
   ]
  },
  {
   "cell_type": "markdown",
   "id": "94ec4956-6b66-467c-9d14-7bf2c27c259b",
   "metadata": {},
   "source": [
    "What if I run into an error with multiple date formats? While we're specifying the date format here, sometimes you'll run into an error when there are multiple date formats in a single column. If that happens, you can have pandas try to infer what the right date format should be. You can do that like so:\n",
    "\n",
    "data['date_parsed'] = pd.to_datetime(data['Order Date'], infer_datetime_format=True)\n",
    "\n",
    "\n",
    "when people gotten crea"
   ]
  },
  {
   "cell_type": "code",
   "execution_count": null,
   "id": "bf7715eb-e22d-41d9-8f47-5e805cc2bd25",
   "metadata": {},
   "outputs": [],
   "source": []
  }
 ],
 "metadata": {
  "kernelspec": {
   "display_name": "Python 3 (ipykernel)",
   "language": "python",
   "name": "python3"
  },
  "language_info": {
   "codemirror_mode": {
    "name": "ipython",
    "version": 3
   },
   "file_extension": ".py",
   "mimetype": "text/x-python",
   "name": "python",
   "nbconvert_exporter": "python",
   "pygments_lexer": "ipython3",
   "version": "3.11.4"
  }
 },
 "nbformat": 4,
 "nbformat_minor": 5
}
